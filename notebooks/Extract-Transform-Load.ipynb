{
 "cells": [
  {
   "cell_type": "markdown",
   "metadata": {},
   "source": [
    "#### 1. Importamos las librerías necesarias."
   ]
  },
  {
   "cell_type": "code",
   "execution_count": 1,
   "metadata": {},
   "outputs": [
    {
     "data": {
      "text/plain": [
       "True"
      ]
     },
     "execution_count": 1,
     "metadata": {},
     "output_type": "execute_result"
    }
   ],
   "source": [
    "import sys\n",
    "import spotipy\n",
    "from spotipy.oauth2 import SpotifyClientCredentials\n",
    "import pandas as pd\n",
    "import numpy as np\n",
    "import seaborn as sns\n",
    "import matplotlib.pyplot as plt\n",
    "import pyjsonviewer\n",
    "\n",
    "import os\n",
    "from dotenv import load_dotenv\n",
    "load_dotenv()"
   ]
  },
  {
   "cell_type": "markdown",
   "metadata": {},
   "source": [
    "#### 2. Creamos nuestras credenciales para acceder a nuestra lista de reproducción de Spotify."
   ]
  },
  {
   "cell_type": "code",
   "execution_count": 2,
   "metadata": {},
   "outputs": [],
   "source": [
    "# hemos dejado nuestros datos en .env, cifrado con .gitignore\n",
    "client_ID = os.getenv('Client_ID')\n",
    "client_secret = os.getenv('Client_Secret')"
   ]
  },
  {
   "cell_type": "code",
   "execution_count": 3,
   "metadata": {},
   "outputs": [],
   "source": [
    "credenciales = SpotifyClientCredentials(client_id=client_ID, client_secret=client_secret)"
   ]
  },
  {
   "cell_type": "code",
   "execution_count": 4,
   "metadata": {},
   "outputs": [
    {
     "data": {
      "text/plain": [
       "<spotipy.oauth2.SpotifyClientCredentials at 0x7f78988e5190>"
      ]
     },
     "execution_count": 4,
     "metadata": {},
     "output_type": "execute_result"
    }
   ],
   "source": [
    "credenciales"
   ]
  },
  {
   "cell_type": "code",
   "execution_count": 5,
   "metadata": {},
   "outputs": [],
   "source": [
    "sp = spotipy.Spotify(client_credentials_manager=credenciales)"
   ]
  },
  {
   "cell_type": "markdown",
   "metadata": {},
   "source": [
    "#### 3. Utilizamos el link de la lista para conseguir su identificador."
   ]
  },
  {
   "cell_type": "code",
   "execution_count": 6,
   "metadata": {},
   "outputs": [
    {
     "data": {
      "text/plain": [
       "'4PQ9xWUanbBuKwFFTc3482'"
      ]
     },
     "execution_count": 6,
     "metadata": {},
     "output_type": "execute_result"
    }
   ],
   "source": [
    "link = \"https://open.spotify.com/playlist/4PQ9xWUanbBuKwFFTc3482?si=265950455dd74ea8\"\n",
    "\n",
    "# utilizamos el metodo string para quedarnos sólo con el identificador de la lista de reproducción\n",
    "iden = link.split(\"/\")[-1].split(\"?\")[0]\n",
    "iden"
   ]
  },
  {
   "cell_type": "markdown",
   "metadata": {},
   "source": [
    "#### 4. Llamamos a la API para conseguir todos los datos de nuestras canciones."
   ]
  },
  {
   "cell_type": "code",
   "execution_count": 7,
   "metadata": {},
   "outputs": [],
   "source": [
    "# Spotify solo nos devuelve 100 canciones con cada llamada, por lo que creamos una función que nos guarde en una variable toda nuestra data.\n",
    "offset = 0\n",
    "all_data = []\n",
    "for i in range(8):\n",
    "    all_data.append(sp.playlist_tracks(iden, offset=offset))\n",
    "    offset += 100"
   ]
  },
  {
   "cell_type": "code",
   "execution_count": 8,
   "metadata": {},
   "outputs": [],
   "source": [
    "# Visualizamos todos los diccionarios en una ventana externa para mejorar su legibilidad.\n",
    "pyjsonviewer.view_data(json_data=all_data)"
   ]
  },
  {
   "cell_type": "code",
   "execution_count": 9,
   "metadata": {},
   "outputs": [
    {
     "data": {
      "text/plain": [
       "dict_keys(['added_at', 'added_by', 'is_local', 'primary_color', 'track', 'video_thumbnail'])"
      ]
     },
     "execution_count": 9,
     "metadata": {},
     "output_type": "execute_result"
    }
   ],
   "source": [
    "all_data[1][\"items\"][60].keys()"
   ]
  },
  {
   "attachments": {},
   "cell_type": "markdown",
   "metadata": {},
   "source": [
    "#### 5. Comprobamos el funcionamiento de las listas de diccionarios para buscar información."
   ]
  },
  {
   "cell_type": "code",
   "execution_count": 10,
   "metadata": {},
   "outputs": [
    {
     "data": {
      "text/plain": [
       "'2022-11-22T14:26:51Z'"
      ]
     },
     "execution_count": 10,
     "metadata": {},
     "output_type": "execute_result"
    }
   ],
   "source": [
    "# cuando se agregó la canción\n",
    "all_data[1][\"items\"][9]['added_at']"
   ]
  },
  {
   "cell_type": "code",
   "execution_count": 11,
   "metadata": {},
   "outputs": [
    {
     "data": {
      "text/plain": [
       "'31p3oc6g3fcxi2hep3pg6e25aifm'"
      ]
     },
     "execution_count": 11,
     "metadata": {},
     "output_type": "execute_result"
    }
   ],
   "source": [
    "# qué usuario la agregó\n",
    "all_data[1][\"items\"][9]['added_by']['id']"
   ]
  },
  {
   "cell_type": "code",
   "execution_count": 12,
   "metadata": {},
   "outputs": [
    {
     "data": {
      "text/plain": [
       "dict_keys(['album', 'artists', 'available_markets', 'disc_number', 'duration_ms', 'episode', 'explicit', 'external_ids', 'external_urls', 'href', 'id', 'is_local', 'name', 'popularity', 'preview_url', 'track', 'track_number', 'type', 'uri'])"
      ]
     },
     "execution_count": 12,
     "metadata": {},
     "output_type": "execute_result"
    }
   ],
   "source": [
    "all_data[1][\"items\"][9]['track'].keys()"
   ]
  },
  {
   "cell_type": "code",
   "execution_count": 13,
   "metadata": {},
   "outputs": [
    {
     "data": {
      "text/plain": [
       "'Every Breath You Take'"
      ]
     },
     "execution_count": 13,
     "metadata": {},
     "output_type": "execute_result"
    }
   ],
   "source": [
    "# nombre la canción\n",
    "all_data[1][\"items\"][9]['track']['name']"
   ]
  },
  {
   "cell_type": "code",
   "execution_count": 14,
   "metadata": {},
   "outputs": [
    {
     "data": {
      "text/plain": [
       "'The Police'"
      ]
     },
     "execution_count": 14,
     "metadata": {},
     "output_type": "execute_result"
    }
   ],
   "source": [
    "# nombre del artista\n",
    "all_data[1][\"items\"][9]['track']['artists'][0]['name']"
   ]
  },
  {
   "cell_type": "code",
   "execution_count": 15,
   "metadata": {},
   "outputs": [
    {
     "data": {
      "text/plain": [
       "dict_keys(['album_type', 'artists', 'available_markets', 'external_urls', 'href', 'id', 'images', 'name', 'release_date', 'release_date_precision', 'total_tracks', 'type', 'uri'])"
      ]
     },
     "execution_count": 15,
     "metadata": {},
     "output_type": "execute_result"
    }
   ],
   "source": [
    "all_data[1][\"items\"][9]['track']['album'].keys()"
   ]
  },
  {
   "cell_type": "code",
   "execution_count": 16,
   "metadata": {},
   "outputs": [
    {
     "data": {
      "text/plain": [
       "'Synchronicity (Remastered 2003)'"
      ]
     },
     "execution_count": 16,
     "metadata": {},
     "output_type": "execute_result"
    }
   ],
   "source": [
    "# album de la canción\n",
    "all_data[1][\"items\"][9]['track']['album']['name']"
   ]
  },
  {
   "cell_type": "code",
   "execution_count": 17,
   "metadata": {},
   "outputs": [
    {
     "data": {
      "text/plain": [
       "'1983-06-17'"
      ]
     },
     "execution_count": 17,
     "metadata": {},
     "output_type": "execute_result"
    }
   ],
   "source": [
    "# cuando se estrenó la canción\n",
    "all_data[1][\"items\"][9]['track']['album']['release_date']"
   ]
  },
  {
   "cell_type": "code",
   "execution_count": 18,
   "metadata": {},
   "outputs": [
    {
     "data": {
      "text/plain": [
       "'https://i.scdn.co/image/ab67616d0000b273c8e97cafeb2acb85b21a777e'"
      ]
     },
     "execution_count": 18,
     "metadata": {},
     "output_type": "execute_result"
    }
   ],
   "source": [
    "# portada del album\n",
    "all_data[1][\"items\"][9]['track']['album']['images'][0]['url']"
   ]
  },
  {
   "cell_type": "code",
   "execution_count": 19,
   "metadata": {},
   "outputs": [
    {
     "data": {
      "text/plain": [
       "87"
      ]
     },
     "execution_count": 19,
     "metadata": {},
     "output_type": "execute_result"
    }
   ],
   "source": [
    "# popularidad de la canción\n",
    "all_data[1][\"items\"][9]['track']['popularity']"
   ]
  },
  {
   "cell_type": "code",
   "execution_count": 20,
   "metadata": {},
   "outputs": [
    {
     "data": {
      "text/plain": [
       "253920"
      ]
     },
     "execution_count": 20,
     "metadata": {},
     "output_type": "execute_result"
    }
   ],
   "source": [
    "# duración\n",
    "all_data[1][\"items\"][9]['track']['duration_ms']"
   ]
  },
  {
   "cell_type": "code",
   "execution_count": 21,
   "metadata": {},
   "outputs": [
    {
     "data": {
      "text/plain": [
       "False"
      ]
     },
     "execution_count": 21,
     "metadata": {},
     "output_type": "execute_result"
    }
   ],
   "source": [
    "# explícita\n",
    "all_data[1][\"items\"][9]['track']['explicit']"
   ]
  },
  {
   "cell_type": "code",
   "execution_count": 22,
   "metadata": {},
   "outputs": [
    {
     "data": {
      "text/plain": [
       "'spotify:track:1JSTJqkT5qHq8MDJnJbRE1'"
      ]
     },
     "execution_count": 22,
     "metadata": {},
     "output_type": "execute_result"
    }
   ],
   "source": [
    "# identificador de la canción\n",
    "all_data[1][\"items\"][9]['track']['uri']"
   ]
  },
  {
   "attachments": {},
   "cell_type": "markdown",
   "metadata": {},
   "source": [
    "#### 6. Creamos una función para iterar por toda la lista de reproducción."
   ]
  },
  {
   "cell_type": "code",
   "execution_count": 23,
   "metadata": {},
   "outputs": [],
   "source": [
    "basic_info = {\"song\": [], \n",
    "            \"artist\": [], \n",
    "            \"album\": [], \n",
    "            \"duration\": [],\n",
    "            \"date_add\": [],\n",
    "            \"date_album\": [], \n",
    "            \"explicit\": [], \n",
    "            \"popularity\": [], \n",
    "            \"user\": [], \n",
    "            \"image\": [],  \n",
    "            \"uri\": [] }\n",
    "\n",
    "for diccionario in range(len(all_data)):\n",
    "    for cancion in range(len(all_data[diccionario][\"items\"])):\n",
    "        basic_info[\"song\"].append(all_data[diccionario][\"items\"][cancion][\"track\"][\"name\"])\n",
    "        basic_info[\"album\"].append(all_data[diccionario][\"items\"][cancion][\"track\"][\"album\"][\"name\"])\n",
    "        basic_info[\"duration\"].append(all_data[diccionario][\"items\"][cancion][\"track\"][\"duration_ms\"])\n",
    "        basic_info[\"date_add\"].append(all_data[diccionario][\"items\"][cancion][\"added_at\"])\n",
    "        basic_info[\"date_album\"].append(all_data[diccionario][\"items\"][cancion][\"track\"][\"album\"][\"release_date\"])\n",
    "        basic_info[\"explicit\"].append(all_data[diccionario][\"items\"][cancion][\"track\"][\"explicit\"])\n",
    "        basic_info[\"popularity\"].append(all_data[diccionario][\"items\"][cancion][\"track\"][\"popularity\"])\n",
    "        basic_info[\"user\"].append(all_data[diccionario][\"items\"][cancion][\"added_by\"][\"id\"])\n",
    "        basic_info[\"image\"].append(all_data[diccionario][\"items\"][cancion][\"track\"][\"album\"][\"images\"][0][\"url\"])\n",
    "        basic_info[\"uri\"].append(all_data[diccionario][\"items\"][cancion][\"track\"][\"uri\"])\n",
    "\n",
    "\n",
    "        numero_artistas = all_data[diccionario][\"items\"][cancion][\"track\"][\"artists\"]\n",
    "\n",
    "        if len(numero_artistas) == 1:\n",
    "            basic_info[\"artist\"].append(all_data[diccionario][\"items\"][cancion][\"track\"][\"artists\"][0][\"name\"])\n",
    "        else:\n",
    "            lista_artista = []\n",
    "            for artista in range(len(numero_artistas)):\n",
    "                lista_artista.append(all_data[diccionario][\"items\"][cancion][\"track\"][\"artists\"][artista][\"name\"])\n",
    "            basic_info[\"artist\"].append(lista_artista)"
   ]
  },
  {
   "cell_type": "code",
   "execution_count": 24,
   "metadata": {},
   "outputs": [
    {
     "data": {
      "text/plain": [
       "\"Hard to Say I'm Sorry\""
      ]
     },
     "execution_count": 24,
     "metadata": {},
     "output_type": "execute_result"
    }
   ],
   "source": [
    "basic_info['song'][2]"
   ]
  },
  {
   "cell_type": "code",
   "execution_count": 25,
   "metadata": {},
   "outputs": [
    {
     "data": {
      "text/plain": [
       "'Chicago'"
      ]
     },
     "execution_count": 25,
     "metadata": {},
     "output_type": "execute_result"
    }
   ],
   "source": [
    "basic_info['artist'][2]"
   ]
  },
  {
   "cell_type": "code",
   "execution_count": 26,
   "metadata": {},
   "outputs": [
    {
     "data": {
      "text/plain": [
       "'laurezurich'"
      ]
     },
     "execution_count": 26,
     "metadata": {},
     "output_type": "execute_result"
    }
   ],
   "source": [
    "basic_info['user'][2]"
   ]
  },
  {
   "attachments": {},
   "cell_type": "markdown",
   "metadata": {},
   "source": [
    "#### 7. Pasamos la lista de diccionarios a DataFrame para trabajar con él."
   ]
  },
  {
   "cell_type": "code",
   "execution_count": 27,
   "metadata": {},
   "outputs": [
    {
     "name": "stdout",
     "output_type": "stream",
     "text": [
      "song -- 680\n",
      "artist -- 680\n",
      "album -- 680\n",
      "duration -- 680\n",
      "date_add -- 680\n",
      "date_album -- 680\n",
      "explicit -- 680\n",
      "popularity -- 680\n",
      "user -- 680\n",
      "image -- 680\n",
      "uri -- 680\n"
     ]
    }
   ],
   "source": [
    "# comprobamos que todas las columnas tienen la misma medida\n",
    "for k,v in basic_info.items():\n",
    "    print(k, \"--\", len(v))"
   ]
  },
  {
   "cell_type": "code",
   "execution_count": 28,
   "metadata": {},
   "outputs": [
    {
     "data": {
      "text/html": [
       "<div>\n",
       "<style scoped>\n",
       "    .dataframe tbody tr th:only-of-type {\n",
       "        vertical-align: middle;\n",
       "    }\n",
       "\n",
       "    .dataframe tbody tr th {\n",
       "        vertical-align: top;\n",
       "    }\n",
       "\n",
       "    .dataframe thead th {\n",
       "        text-align: right;\n",
       "    }\n",
       "</style>\n",
       "<table border=\"1\" class=\"dataframe\">\n",
       "  <thead>\n",
       "    <tr style=\"text-align: right;\">\n",
       "      <th></th>\n",
       "      <th>song</th>\n",
       "      <th>artist</th>\n",
       "      <th>album</th>\n",
       "      <th>duration</th>\n",
       "      <th>date_add</th>\n",
       "      <th>date_album</th>\n",
       "      <th>explicit</th>\n",
       "      <th>popularity</th>\n",
       "      <th>user</th>\n",
       "      <th>image</th>\n",
       "      <th>uri</th>\n",
       "    </tr>\n",
       "  </thead>\n",
       "  <tbody>\n",
       "    <tr>\n",
       "      <th>0</th>\n",
       "      <td>Lobby Music (Original Soundtrack)</td>\n",
       "      <td>Kahoot!</td>\n",
       "      <td>Lobby Music (Original Soundtrack)</td>\n",
       "      <td>144008</td>\n",
       "      <td>2022-11-15T12:23:07Z</td>\n",
       "      <td>2013-03-05</td>\n",
       "      <td>False</td>\n",
       "      <td>53</td>\n",
       "      <td>31grj66zzxhioxdjn3nv22jvfpji</td>\n",
       "      <td>https://i.scdn.co/image/ab67616d0000b27363cd4c...</td>\n",
       "      <td>spotify:track:7IEdlE4ZwzPDxnoWFv10aj</td>\n",
       "    </tr>\n",
       "    <tr>\n",
       "      <th>1</th>\n",
       "      <td>No te olvides de poner el Where en el Delete From</td>\n",
       "      <td>Jorge Rubira</td>\n",
       "      <td>No te olvides de poner el Where en el Delete From</td>\n",
       "      <td>222057</td>\n",
       "      <td>2023-01-12T07:50:25Z</td>\n",
       "      <td>2021-03-14</td>\n",
       "      <td>False</td>\n",
       "      <td>8</td>\n",
       "      <td>31tlrqq55e5zdgosw6swshtio5za</td>\n",
       "      <td>https://i.scdn.co/image/ab67616d0000b273afceff...</td>\n",
       "      <td>spotify:track:7j4N1Jgf5ee7zLHtjcKpiB</td>\n",
       "    </tr>\n",
       "    <tr>\n",
       "      <th>2</th>\n",
       "      <td>Hard to Say I'm Sorry</td>\n",
       "      <td>Chicago</td>\n",
       "      <td>The Collection</td>\n",
       "      <td>232320</td>\n",
       "      <td>2022-11-07T10:05:48Z</td>\n",
       "      <td>2012-10-29</td>\n",
       "      <td>False</td>\n",
       "      <td>65</td>\n",
       "      <td>laurezurich</td>\n",
       "      <td>https://i.scdn.co/image/ab67616d0000b27372e167...</td>\n",
       "      <td>spotify:track:58DXqHKK7TfxUmhCq2ux4E</td>\n",
       "    </tr>\n",
       "    <tr>\n",
       "      <th>3</th>\n",
       "      <td>Gold on the Ceiling</td>\n",
       "      <td>The Black Keys</td>\n",
       "      <td>El Camino</td>\n",
       "      <td>224333</td>\n",
       "      <td>2022-11-07T10:07:03Z</td>\n",
       "      <td>2011-12-06</td>\n",
       "      <td>False</td>\n",
       "      <td>71</td>\n",
       "      <td>laurezurich</td>\n",
       "      <td>https://i.scdn.co/image/ab67616d0000b2736a21b9...</td>\n",
       "      <td>spotify:track:5lN1EH25gdiqT1SFALMAq1</td>\n",
       "    </tr>\n",
       "    <tr>\n",
       "      <th>4</th>\n",
       "      <td>Vienna</td>\n",
       "      <td>Ultravox</td>\n",
       "      <td>This Is... 1981</td>\n",
       "      <td>278226</td>\n",
       "      <td>2022-11-07T10:08:04Z</td>\n",
       "      <td>2008-08-08</td>\n",
       "      <td>False</td>\n",
       "      <td>0</td>\n",
       "      <td>laurezurich</td>\n",
       "      <td>https://i.scdn.co/image/ab67616d0000b27337aac7...</td>\n",
       "      <td>spotify:track:0cqVKNj1BubZHzp0OiI5IK</td>\n",
       "    </tr>\n",
       "  </tbody>\n",
       "</table>\n",
       "</div>"
      ],
      "text/plain": [
       "                                                song          artist  \\\n",
       "0                  Lobby Music (Original Soundtrack)         Kahoot!   \n",
       "1  No te olvides de poner el Where en el Delete From    Jorge Rubira   \n",
       "2                              Hard to Say I'm Sorry         Chicago   \n",
       "3                                Gold on the Ceiling  The Black Keys   \n",
       "4                                             Vienna        Ultravox   \n",
       "\n",
       "                                               album  duration  \\\n",
       "0                  Lobby Music (Original Soundtrack)    144008   \n",
       "1  No te olvides de poner el Where en el Delete From    222057   \n",
       "2                                     The Collection    232320   \n",
       "3                                          El Camino    224333   \n",
       "4                                    This Is... 1981    278226   \n",
       "\n",
       "               date_add  date_album  explicit  popularity  \\\n",
       "0  2022-11-15T12:23:07Z  2013-03-05     False          53   \n",
       "1  2023-01-12T07:50:25Z  2021-03-14     False           8   \n",
       "2  2022-11-07T10:05:48Z  2012-10-29     False          65   \n",
       "3  2022-11-07T10:07:03Z  2011-12-06     False          71   \n",
       "4  2022-11-07T10:08:04Z  2008-08-08     False           0   \n",
       "\n",
       "                           user  \\\n",
       "0  31grj66zzxhioxdjn3nv22jvfpji   \n",
       "1  31tlrqq55e5zdgosw6swshtio5za   \n",
       "2                   laurezurich   \n",
       "3                   laurezurich   \n",
       "4                   laurezurich   \n",
       "\n",
       "                                               image  \\\n",
       "0  https://i.scdn.co/image/ab67616d0000b27363cd4c...   \n",
       "1  https://i.scdn.co/image/ab67616d0000b273afceff...   \n",
       "2  https://i.scdn.co/image/ab67616d0000b27372e167...   \n",
       "3  https://i.scdn.co/image/ab67616d0000b2736a21b9...   \n",
       "4  https://i.scdn.co/image/ab67616d0000b27337aac7...   \n",
       "\n",
       "                                    uri  \n",
       "0  spotify:track:7IEdlE4ZwzPDxnoWFv10aj  \n",
       "1  spotify:track:7j4N1Jgf5ee7zLHtjcKpiB  \n",
       "2  spotify:track:58DXqHKK7TfxUmhCq2ux4E  \n",
       "3  spotify:track:5lN1EH25gdiqT1SFALMAq1  \n",
       "4  spotify:track:0cqVKNj1BubZHzp0OiI5IK  "
      ]
     },
     "execution_count": 28,
     "metadata": {},
     "output_type": "execute_result"
    }
   ],
   "source": [
    "# convertimos nuestros datos a DataFrame\n",
    "df = pd.DataFrame(basic_info)\n",
    "df.head()"
   ]
  },
  {
   "attachments": {},
   "cell_type": "markdown",
   "metadata": {},
   "source": [
    "#### 8. Añadimos aspectos técnicos a nuestro DataFrame, para realizar un análisis más exhaustivo."
   ]
  },
  {
   "cell_type": "code",
   "execution_count": 29,
   "metadata": {},
   "outputs": [],
   "source": [
    "# creamos una lista de valores únicos de los identificadores de las canciones\n",
    "uris = list(df[\"uri\"].unique())"
   ]
  },
  {
   "cell_type": "code",
   "execution_count": 31,
   "metadata": {},
   "outputs": [],
   "source": [
    "# creamos una función para recuperar esas nuevos aspectos\n",
    "features = []\n",
    "for cancion in uris: \n",
    "    features.append(sp.audio_features(cancion))"
   ]
  },
  {
   "cell_type": "code",
   "execution_count": 32,
   "metadata": {},
   "outputs": [
    {
     "data": {
      "text/html": [
       "<div>\n",
       "<style scoped>\n",
       "    .dataframe tbody tr th:only-of-type {\n",
       "        vertical-align: middle;\n",
       "    }\n",
       "\n",
       "    .dataframe tbody tr th {\n",
       "        vertical-align: top;\n",
       "    }\n",
       "\n",
       "    .dataframe thead th {\n",
       "        text-align: right;\n",
       "    }\n",
       "</style>\n",
       "<table border=\"1\" class=\"dataframe\">\n",
       "  <thead>\n",
       "    <tr style=\"text-align: right;\">\n",
       "      <th></th>\n",
       "      <th>caracteristicas</th>\n",
       "    </tr>\n",
       "  </thead>\n",
       "  <tbody>\n",
       "    <tr>\n",
       "      <th>0</th>\n",
       "      <td>{'danceability': 0.818, 'energy': 0.693, 'key'...</td>\n",
       "    </tr>\n",
       "    <tr>\n",
       "      <th>1</th>\n",
       "      <td>{'danceability': 0.697, 'energy': 0.924, 'key'...</td>\n",
       "    </tr>\n",
       "    <tr>\n",
       "      <th>2</th>\n",
       "      <td>{'danceability': 0.543, 'energy': 0.381, 'key'...</td>\n",
       "    </tr>\n",
       "    <tr>\n",
       "      <th>3</th>\n",
       "      <td>{'danceability': 0.505, 'energy': 0.833, 'key'...</td>\n",
       "    </tr>\n",
       "    <tr>\n",
       "      <th>4</th>\n",
       "      <td>{'danceability': 0.583, 'energy': 0.614, 'key'...</td>\n",
       "    </tr>\n",
       "  </tbody>\n",
       "</table>\n",
       "</div>"
      ],
      "text/plain": [
       "                                     caracteristicas\n",
       "0  {'danceability': 0.818, 'energy': 0.693, 'key'...\n",
       "1  {'danceability': 0.697, 'energy': 0.924, 'key'...\n",
       "2  {'danceability': 0.543, 'energy': 0.381, 'key'...\n",
       "3  {'danceability': 0.505, 'energy': 0.833, 'key'...\n",
       "4  {'danceability': 0.583, 'energy': 0.614, 'key'..."
      ]
     },
     "execution_count": 32,
     "metadata": {},
     "output_type": "execute_result"
    }
   ],
   "source": [
    "# creamos un DataFrame con una columna dónde se encuentran todas las características en un diccionario\n",
    "df_features = pd.DataFrame(features)\n",
    "df_features.columns = [\"caracteristicas\"]\n",
    "df_features.head()"
   ]
  },
  {
   "cell_type": "code",
   "execution_count": 33,
   "metadata": {},
   "outputs": [
    {
     "data": {
      "text/html": [
       "<div>\n",
       "<style scoped>\n",
       "    .dataframe tbody tr th:only-of-type {\n",
       "        vertical-align: middle;\n",
       "    }\n",
       "\n",
       "    .dataframe tbody tr th {\n",
       "        vertical-align: top;\n",
       "    }\n",
       "\n",
       "    .dataframe thead th {\n",
       "        text-align: right;\n",
       "    }\n",
       "</style>\n",
       "<table border=\"1\" class=\"dataframe\">\n",
       "  <thead>\n",
       "    <tr style=\"text-align: right;\">\n",
       "      <th></th>\n",
       "      <th>danceability</th>\n",
       "      <th>energy</th>\n",
       "      <th>key</th>\n",
       "      <th>loudness</th>\n",
       "      <th>mode</th>\n",
       "      <th>speechiness</th>\n",
       "      <th>acousticness</th>\n",
       "      <th>instrumentalness</th>\n",
       "      <th>liveness</th>\n",
       "      <th>valence</th>\n",
       "      <th>tempo</th>\n",
       "      <th>type</th>\n",
       "      <th>id</th>\n",
       "      <th>uri</th>\n",
       "      <th>track_href</th>\n",
       "      <th>analysis_url</th>\n",
       "      <th>duration_ms</th>\n",
       "      <th>time_signature</th>\n",
       "    </tr>\n",
       "  </thead>\n",
       "  <tbody>\n",
       "    <tr>\n",
       "      <th>0</th>\n",
       "      <td>0.818</td>\n",
       "      <td>0.693</td>\n",
       "      <td>0</td>\n",
       "      <td>-15.818</td>\n",
       "      <td>0</td>\n",
       "      <td>0.117</td>\n",
       "      <td>0.0244</td>\n",
       "      <td>0.89</td>\n",
       "      <td>0.0925</td>\n",
       "      <td>0.968</td>\n",
       "      <td>119.968</td>\n",
       "      <td>audio_features</td>\n",
       "      <td>7IEdlE4ZwzPDxnoWFv10aj</td>\n",
       "      <td>spotify:track:7IEdlE4ZwzPDxnoWFv10aj</td>\n",
       "      <td>https://api.spotify.com/v1/tracks/7IEdlE4ZwzPD...</td>\n",
       "      <td>https://api.spotify.com/v1/audio-analysis/7IEd...</td>\n",
       "      <td>144009</td>\n",
       "      <td>4</td>\n",
       "    </tr>\n",
       "    <tr>\n",
       "      <th>1</th>\n",
       "      <td>0.697</td>\n",
       "      <td>0.924</td>\n",
       "      <td>0</td>\n",
       "      <td>-3.130</td>\n",
       "      <td>1</td>\n",
       "      <td>0.124</td>\n",
       "      <td>0.2230</td>\n",
       "      <td>0.00</td>\n",
       "      <td>0.3450</td>\n",
       "      <td>0.560</td>\n",
       "      <td>124.786</td>\n",
       "      <td>audio_features</td>\n",
       "      <td>7j4N1Jgf5ee7zLHtjcKpiB</td>\n",
       "      <td>spotify:track:7j4N1Jgf5ee7zLHtjcKpiB</td>\n",
       "      <td>https://api.spotify.com/v1/tracks/7j4N1Jgf5ee7...</td>\n",
       "      <td>https://api.spotify.com/v1/audio-analysis/7j4N...</td>\n",
       "      <td>222058</td>\n",
       "      <td>4</td>\n",
       "    </tr>\n",
       "  </tbody>\n",
       "</table>\n",
       "</div>"
      ],
      "text/plain": [
       "   danceability  energy  key  loudness  mode  speechiness  acousticness  \\\n",
       "0         0.818   0.693    0   -15.818     0        0.117        0.0244   \n",
       "1         0.697   0.924    0    -3.130     1        0.124        0.2230   \n",
       "\n",
       "   instrumentalness  liveness  valence    tempo            type  \\\n",
       "0              0.89    0.0925    0.968  119.968  audio_features   \n",
       "1              0.00    0.3450    0.560  124.786  audio_features   \n",
       "\n",
       "                       id                                   uri  \\\n",
       "0  7IEdlE4ZwzPDxnoWFv10aj  spotify:track:7IEdlE4ZwzPDxnoWFv10aj   \n",
       "1  7j4N1Jgf5ee7zLHtjcKpiB  spotify:track:7j4N1Jgf5ee7zLHtjcKpiB   \n",
       "\n",
       "                                          track_href  \\\n",
       "0  https://api.spotify.com/v1/tracks/7IEdlE4ZwzPD...   \n",
       "1  https://api.spotify.com/v1/tracks/7j4N1Jgf5ee7...   \n",
       "\n",
       "                                        analysis_url  duration_ms  \\\n",
       "0  https://api.spotify.com/v1/audio-analysis/7IEd...       144009   \n",
       "1  https://api.spotify.com/v1/audio-analysis/7j4N...       222058   \n",
       "\n",
       "   time_signature  \n",
       "0               4  \n",
       "1               4  "
      ]
     },
     "execution_count": 33,
     "metadata": {},
     "output_type": "execute_result"
    }
   ],
   "source": [
    "# aplicamos el método pd.Series para desempaquetar el diccionario y crear nuevas columnas con cada característica\n",
    "df_features = df_features[\"caracteristicas\"].apply(pd.Series)\n",
    "df_features.head(2)"
   ]
  },
  {
   "cell_type": "code",
   "execution_count": 34,
   "metadata": {},
   "outputs": [
    {
     "data": {
      "text/html": [
       "<div>\n",
       "<style scoped>\n",
       "    .dataframe tbody tr th:only-of-type {\n",
       "        vertical-align: middle;\n",
       "    }\n",
       "\n",
       "    .dataframe tbody tr th {\n",
       "        vertical-align: top;\n",
       "    }\n",
       "\n",
       "    .dataframe thead th {\n",
       "        text-align: right;\n",
       "    }\n",
       "</style>\n",
       "<table border=\"1\" class=\"dataframe\">\n",
       "  <thead>\n",
       "    <tr style=\"text-align: right;\">\n",
       "      <th></th>\n",
       "      <th>song</th>\n",
       "      <th>artist</th>\n",
       "      <th>album</th>\n",
       "      <th>duration</th>\n",
       "      <th>date_add</th>\n",
       "      <th>date_album</th>\n",
       "      <th>explicit</th>\n",
       "      <th>popularity</th>\n",
       "      <th>user</th>\n",
       "      <th>image</th>\n",
       "      <th>...</th>\n",
       "      <th>instrumentalness</th>\n",
       "      <th>liveness</th>\n",
       "      <th>valence</th>\n",
       "      <th>tempo</th>\n",
       "      <th>type</th>\n",
       "      <th>id</th>\n",
       "      <th>track_href</th>\n",
       "      <th>analysis_url</th>\n",
       "      <th>duration_ms</th>\n",
       "      <th>time_signature</th>\n",
       "    </tr>\n",
       "  </thead>\n",
       "  <tbody>\n",
       "    <tr>\n",
       "      <th>0</th>\n",
       "      <td>Lobby Music (Original Soundtrack)</td>\n",
       "      <td>Kahoot!</td>\n",
       "      <td>Lobby Music (Original Soundtrack)</td>\n",
       "      <td>144008</td>\n",
       "      <td>2022-11-15T12:23:07Z</td>\n",
       "      <td>2013-03-05</td>\n",
       "      <td>False</td>\n",
       "      <td>53</td>\n",
       "      <td>31grj66zzxhioxdjn3nv22jvfpji</td>\n",
       "      <td>https://i.scdn.co/image/ab67616d0000b27363cd4c...</td>\n",
       "      <td>...</td>\n",
       "      <td>0.890000</td>\n",
       "      <td>0.0925</td>\n",
       "      <td>0.968</td>\n",
       "      <td>119.968</td>\n",
       "      <td>audio_features</td>\n",
       "      <td>7IEdlE4ZwzPDxnoWFv10aj</td>\n",
       "      <td>https://api.spotify.com/v1/tracks/7IEdlE4ZwzPD...</td>\n",
       "      <td>https://api.spotify.com/v1/audio-analysis/7IEd...</td>\n",
       "      <td>144009</td>\n",
       "      <td>4</td>\n",
       "    </tr>\n",
       "    <tr>\n",
       "      <th>1</th>\n",
       "      <td>No te olvides de poner el Where en el Delete From</td>\n",
       "      <td>Jorge Rubira</td>\n",
       "      <td>No te olvides de poner el Where en el Delete From</td>\n",
       "      <td>222057</td>\n",
       "      <td>2023-01-12T07:50:25Z</td>\n",
       "      <td>2021-03-14</td>\n",
       "      <td>False</td>\n",
       "      <td>8</td>\n",
       "      <td>31tlrqq55e5zdgosw6swshtio5za</td>\n",
       "      <td>https://i.scdn.co/image/ab67616d0000b273afceff...</td>\n",
       "      <td>...</td>\n",
       "      <td>0.000000</td>\n",
       "      <td>0.3450</td>\n",
       "      <td>0.560</td>\n",
       "      <td>124.786</td>\n",
       "      <td>audio_features</td>\n",
       "      <td>7j4N1Jgf5ee7zLHtjcKpiB</td>\n",
       "      <td>https://api.spotify.com/v1/tracks/7j4N1Jgf5ee7...</td>\n",
       "      <td>https://api.spotify.com/v1/audio-analysis/7j4N...</td>\n",
       "      <td>222058</td>\n",
       "      <td>4</td>\n",
       "    </tr>\n",
       "    <tr>\n",
       "      <th>2</th>\n",
       "      <td>Hard to Say I'm Sorry</td>\n",
       "      <td>Chicago</td>\n",
       "      <td>The Collection</td>\n",
       "      <td>232320</td>\n",
       "      <td>2022-11-07T10:05:48Z</td>\n",
       "      <td>2012-10-29</td>\n",
       "      <td>False</td>\n",
       "      <td>65</td>\n",
       "      <td>laurezurich</td>\n",
       "      <td>https://i.scdn.co/image/ab67616d0000b27372e167...</td>\n",
       "      <td>...</td>\n",
       "      <td>0.000004</td>\n",
       "      <td>0.2490</td>\n",
       "      <td>0.188</td>\n",
       "      <td>72.332</td>\n",
       "      <td>audio_features</td>\n",
       "      <td>58DXqHKK7TfxUmhCq2ux4E</td>\n",
       "      <td>https://api.spotify.com/v1/tracks/58DXqHKK7Tfx...</td>\n",
       "      <td>https://api.spotify.com/v1/audio-analysis/58DX...</td>\n",
       "      <td>232320</td>\n",
       "      <td>4</td>\n",
       "    </tr>\n",
       "    <tr>\n",
       "      <th>3</th>\n",
       "      <td>Gold on the Ceiling</td>\n",
       "      <td>The Black Keys</td>\n",
       "      <td>El Camino</td>\n",
       "      <td>224333</td>\n",
       "      <td>2022-11-07T10:07:03Z</td>\n",
       "      <td>2011-12-06</td>\n",
       "      <td>False</td>\n",
       "      <td>71</td>\n",
       "      <td>laurezurich</td>\n",
       "      <td>https://i.scdn.co/image/ab67616d0000b2736a21b9...</td>\n",
       "      <td>...</td>\n",
       "      <td>0.000079</td>\n",
       "      <td>0.0690</td>\n",
       "      <td>0.565</td>\n",
       "      <td>130.121</td>\n",
       "      <td>audio_features</td>\n",
       "      <td>5lN1EH25gdiqT1SFALMAq1</td>\n",
       "      <td>https://api.spotify.com/v1/tracks/5lN1EH25gdiq...</td>\n",
       "      <td>https://api.spotify.com/v1/audio-analysis/5lN1...</td>\n",
       "      <td>224333</td>\n",
       "      <td>4</td>\n",
       "    </tr>\n",
       "    <tr>\n",
       "      <th>4</th>\n",
       "      <td>Vienna</td>\n",
       "      <td>Ultravox</td>\n",
       "      <td>This Is... 1981</td>\n",
       "      <td>278226</td>\n",
       "      <td>2022-11-07T10:08:04Z</td>\n",
       "      <td>2008-08-08</td>\n",
       "      <td>False</td>\n",
       "      <td>0</td>\n",
       "      <td>laurezurich</td>\n",
       "      <td>https://i.scdn.co/image/ab67616d0000b27337aac7...</td>\n",
       "      <td>...</td>\n",
       "      <td>0.234000</td>\n",
       "      <td>0.1090</td>\n",
       "      <td>0.456</td>\n",
       "      <td>80.747</td>\n",
       "      <td>audio_features</td>\n",
       "      <td>0cqVKNj1BubZHzp0OiI5IK</td>\n",
       "      <td>https://api.spotify.com/v1/tracks/0cqVKNj1BubZ...</td>\n",
       "      <td>https://api.spotify.com/v1/audio-analysis/0cqV...</td>\n",
       "      <td>278227</td>\n",
       "      <td>4</td>\n",
       "    </tr>\n",
       "  </tbody>\n",
       "</table>\n",
       "<p>5 rows × 28 columns</p>\n",
       "</div>"
      ],
      "text/plain": [
       "                                                song          artist  \\\n",
       "0                  Lobby Music (Original Soundtrack)         Kahoot!   \n",
       "1  No te olvides de poner el Where en el Delete From    Jorge Rubira   \n",
       "2                              Hard to Say I'm Sorry         Chicago   \n",
       "3                                Gold on the Ceiling  The Black Keys   \n",
       "4                                             Vienna        Ultravox   \n",
       "\n",
       "                                               album  duration  \\\n",
       "0                  Lobby Music (Original Soundtrack)    144008   \n",
       "1  No te olvides de poner el Where en el Delete From    222057   \n",
       "2                                     The Collection    232320   \n",
       "3                                          El Camino    224333   \n",
       "4                                    This Is... 1981    278226   \n",
       "\n",
       "               date_add  date_album  explicit  popularity  \\\n",
       "0  2022-11-15T12:23:07Z  2013-03-05     False          53   \n",
       "1  2023-01-12T07:50:25Z  2021-03-14     False           8   \n",
       "2  2022-11-07T10:05:48Z  2012-10-29     False          65   \n",
       "3  2022-11-07T10:07:03Z  2011-12-06     False          71   \n",
       "4  2022-11-07T10:08:04Z  2008-08-08     False           0   \n",
       "\n",
       "                           user  \\\n",
       "0  31grj66zzxhioxdjn3nv22jvfpji   \n",
       "1  31tlrqq55e5zdgosw6swshtio5za   \n",
       "2                   laurezurich   \n",
       "3                   laurezurich   \n",
       "4                   laurezurich   \n",
       "\n",
       "                                               image  ... instrumentalness  \\\n",
       "0  https://i.scdn.co/image/ab67616d0000b27363cd4c...  ...         0.890000   \n",
       "1  https://i.scdn.co/image/ab67616d0000b273afceff...  ...         0.000000   \n",
       "2  https://i.scdn.co/image/ab67616d0000b27372e167...  ...         0.000004   \n",
       "3  https://i.scdn.co/image/ab67616d0000b2736a21b9...  ...         0.000079   \n",
       "4  https://i.scdn.co/image/ab67616d0000b27337aac7...  ...         0.234000   \n",
       "\n",
       "   liveness  valence    tempo            type                      id  \\\n",
       "0    0.0925    0.968  119.968  audio_features  7IEdlE4ZwzPDxnoWFv10aj   \n",
       "1    0.3450    0.560  124.786  audio_features  7j4N1Jgf5ee7zLHtjcKpiB   \n",
       "2    0.2490    0.188   72.332  audio_features  58DXqHKK7TfxUmhCq2ux4E   \n",
       "3    0.0690    0.565  130.121  audio_features  5lN1EH25gdiqT1SFALMAq1   \n",
       "4    0.1090    0.456   80.747  audio_features  0cqVKNj1BubZHzp0OiI5IK   \n",
       "\n",
       "                                          track_href  \\\n",
       "0  https://api.spotify.com/v1/tracks/7IEdlE4ZwzPD...   \n",
       "1  https://api.spotify.com/v1/tracks/7j4N1Jgf5ee7...   \n",
       "2  https://api.spotify.com/v1/tracks/58DXqHKK7Tfx...   \n",
       "3  https://api.spotify.com/v1/tracks/5lN1EH25gdiq...   \n",
       "4  https://api.spotify.com/v1/tracks/0cqVKNj1BubZ...   \n",
       "\n",
       "                                        analysis_url  duration_ms  \\\n",
       "0  https://api.spotify.com/v1/audio-analysis/7IEd...       144009   \n",
       "1  https://api.spotify.com/v1/audio-analysis/7j4N...       222058   \n",
       "2  https://api.spotify.com/v1/audio-analysis/58DX...       232320   \n",
       "3  https://api.spotify.com/v1/audio-analysis/5lN1...       224333   \n",
       "4  https://api.spotify.com/v1/audio-analysis/0cqV...       278227   \n",
       "\n",
       "   time_signature  \n",
       "0               4  \n",
       "1               4  \n",
       "2               4  \n",
       "3               4  \n",
       "4               4  \n",
       "\n",
       "[5 rows x 28 columns]"
      ]
     },
     "execution_count": 34,
     "metadata": {},
     "output_type": "execute_result"
    }
   ],
   "source": [
    "# utilizamos el método merge para unir ambos DataFrames\n",
    "final = pd.merge(df, df_features, on = \"uri\", how = \"left\")\n",
    "final.head()"
   ]
  },
  {
   "cell_type": "code",
   "execution_count": 35,
   "metadata": {},
   "outputs": [],
   "source": [
    "# eliminamos las columnas que pueden entorpecer nuestro análisis exploratorio\n",
    "final.drop(['type', 'id', 'track_href', 'analysis_url', 'duration_ms','time_signature'], axis = 1, inplace = True)"
   ]
  },
  {
   "attachments": {},
   "cell_type": "markdown",
   "metadata": {},
   "source": [
    "#### 9. Siguiendo con la limpieza, nos damos cuenta que la mayoría de los ID de los users son irreconocibles, así que modificamos los nombres."
   ]
  },
  {
   "cell_type": "code",
   "execution_count": 36,
   "metadata": {},
   "outputs": [
    {
     "data": {
      "text/plain": [
       "array(['31grj66zzxhioxdjn3nv22jvfpji', '31tlrqq55e5zdgosw6swshtio5za',\n",
       "       'laurezurich', '31t72cua5e6riqibjxnqescvkr4i', '11132975782',\n",
       "       '7kt5yda4woutn5mez6lbe13m0', '31p3oc6g3fcxi2hep3pg6e25aifm',\n",
       "       'su75lvxn1izr4doamfnwvf61v', 'silviagorvic', 'superarrocito',\n",
       "       '21rpvd5svxpeaeqtmn63kqy7y', '317x7ztj5ikbtxuymvixaa32s4o4',\n",
       "       '21uowk5ic3isdrshld6xjizza', '1183037273', '1120757998', 'pfuente',\n",
       "       'irenepowers', '214nikwxpg7h75l7y4ghuqlhq'], dtype=object)"
      ]
     },
     "execution_count": 36,
     "metadata": {},
     "output_type": "execute_result"
    }
   ],
   "source": [
    "# primero comprobamos los usuarios\n",
    "final.user.unique()"
   ]
  },
  {
   "cell_type": "code",
   "execution_count": 37,
   "metadata": {},
   "outputs": [],
   "source": [
    "# creamos un diccionario con los user y los nombres de las usuarias, para utilizar el método map y cambiar los nombres.\n",
    "dicc_users = {\"31grj66zzxhioxdjn3nv22jvfpji\": \"Vanna\", \n",
    "              \"31tlrqq55e5zdgosw6swshtio5za\": \"Sonia\", \n",
    "              \"laurezurich\": \"Laura\", \n",
    "              \"31t72cua5e6riqibjxnqescvkr4i\": \"Noemi\", \n",
    "              \"11132975782\": \"Natalia\", \n",
    "              \"7kt5yda4woutn5mez6lbe13m0\": \"Gadea\", \n",
    "              \"31p3oc6g3fcxi2hep3pg6e25aifm\": \"Ana C.\", \n",
    "              \"su75lvxn1izr4doamfnwvf61v\": \"Sandra\", \n",
    "              \"silviagorvic\": \"Silvia\", \n",
    "              \"superarrocito\": \"Sila\", \n",
    "              \"21rpvd5svxpeaeqtmn63kqy7y\": \"Anahi\", \n",
    "              \"317x7ztj5ikbtxuymvixaa32s4o4\": \"Ximena\", \n",
    "              \"21uowk5ic3isdrshld6xjizza\": \"Mai\", \n",
    "              \"1183037273\": \"Ana GG\", \n",
    "              \"1120757998\": \"Lola\", \n",
    "              \"pfuente\": \"Paula\", \n",
    "              \"irenepowers\": \"Irene\", \n",
    "              \"214nikwxpg7h75l7y4ghuqlhq\": \"Naiara\"}\n",
    "\n",
    "final[\"user\"] = final[\"user\"].map(dicc_users)"
   ]
  },
  {
   "attachments": {},
   "cell_type": "markdown",
   "metadata": {},
   "source": [
    "#### 10. Con el DataFrame ya limpio, guardamos nuestros datos."
   ]
  },
  {
   "cell_type": "code",
   "execution_count": 39,
   "metadata": {},
   "outputs": [],
   "source": [
    "final.to_csv(\"../files/spotify_limpio.csv\")"
   ]
  },
  {
   "cell_type": "markdown",
   "metadata": {},
   "source": []
  }
 ],
 "metadata": {
  "kernelspec": {
   "display_name": "base",
   "language": "python",
   "name": "python3"
  },
  "language_info": {
   "codemirror_mode": {
    "name": "ipython",
    "version": 3
   },
   "file_extension": ".py",
   "mimetype": "text/x-python",
   "name": "python",
   "nbconvert_exporter": "python",
   "pygments_lexer": "ipython3",
   "version": "3.9.7"
  },
  "orig_nbformat": 4,
  "vscode": {
   "interpreter": {
    "hash": "09ef0d809ec952190e4f80c7cefeba54847dc0ce9c43b1ceb30a4d9586e0f0a6"
   }
  }
 },
 "nbformat": 4,
 "nbformat_minor": 2
}
