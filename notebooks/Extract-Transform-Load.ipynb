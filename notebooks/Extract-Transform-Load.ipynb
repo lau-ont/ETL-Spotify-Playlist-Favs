{
 "cells": [
  {
   "cell_type": "markdown",
   "metadata": {},
   "source": [
    "# Spotify Playlist - ETL\n",
    "\n",
    "Las canciones favoritas de varias compañeras, añadidas a una lista de reproducción de Spotify."
   ]
  },
  {
   "cell_type": "markdown",
   "metadata": {},
   "source": [
    "#### 1. Importamos las librerías necesarias."
   ]
  },
  {
   "cell_type": "code",
   "execution_count": 31,
   "metadata": {},
   "outputs": [
    {
     "data": {
      "text/plain": [
       "True"
      ]
     },
     "execution_count": 31,
     "metadata": {},
     "output_type": "execute_result"
    }
   ],
   "source": [
    "import sys\n",
    "import spotipy\n",
    "from spotipy.oauth2 import SpotifyClientCredentials\n",
    "import pandas as pd\n",
    "import numpy as np\n",
    "import seaborn as sns\n",
    "import matplotlib.pyplot as plt\n",
    "import pyjsonviewer\n",
    "import os\n",
    "from dotenv import load_dotenv\n",
    "load_dotenv()"
   ]
  },
  {
   "cell_type": "markdown",
   "metadata": {},
   "source": [
    "#### 2. Creamos nuestras credenciales para acceder a nuestra lista de reproducción de Spotify."
   ]
  },
  {
   "cell_type": "code",
   "execution_count": 32,
   "metadata": {},
   "outputs": [],
   "source": [
    "# hemos dejado nuestros datos en .env, cifrado con .gitignore\n",
    "client_ID = os.getenv('Client_ID')\n",
    "client_secret = os.getenv('Client_Secret')"
   ]
  },
  {
   "cell_type": "code",
   "execution_count": 33,
   "metadata": {},
   "outputs": [],
   "source": [
    "credenciales = SpotifyClientCredentials(client_id=client_ID, client_secret=client_secret)"
   ]
  },
  {
   "cell_type": "code",
   "execution_count": 34,
   "metadata": {},
   "outputs": [
    {
     "data": {
      "text/plain": [
       "<spotipy.oauth2.SpotifyClientCredentials at 0x7f8d1743c3d0>"
      ]
     },
     "execution_count": 34,
     "metadata": {},
     "output_type": "execute_result"
    }
   ],
   "source": [
    "credenciales"
   ]
  },
  {
   "cell_type": "code",
   "execution_count": 35,
   "metadata": {},
   "outputs": [],
   "source": [
    "sp = spotipy.Spotify(client_credentials_manager=credenciales)"
   ]
  },
  {
   "cell_type": "markdown",
   "metadata": {},
   "source": [
    "#### 3. Utilizamos el link de la lista para conseguir su identificador."
   ]
  },
  {
   "cell_type": "code",
   "execution_count": 36,
   "metadata": {},
   "outputs": [
    {
     "data": {
      "text/plain": [
       "'4PQ9xWUanbBuKwFFTc3482'"
      ]
     },
     "execution_count": 36,
     "metadata": {},
     "output_type": "execute_result"
    }
   ],
   "source": [
    "link = \"https://open.spotify.com/playlist/4PQ9xWUanbBuKwFFTc3482?si=265950455dd74ea8\"\n",
    "\n",
    "# utilizamos el metodo string para quedarnos sólo con el identificador de la lista de reproducción\n",
    "iden = link.split(\"/\")[-1].split(\"?\")[0]\n",
    "iden"
   ]
  },
  {
   "cell_type": "markdown",
   "metadata": {},
   "source": [
    "#### 4. Llamamos a la API para conseguir todos los datos de nuestras canciones."
   ]
  },
  {
   "cell_type": "code",
   "execution_count": 37,
   "metadata": {},
   "outputs": [],
   "source": [
    "# Spotify solo nos devuelve 100 canciones con cada llamada, por lo que creamos una función que nos guarde en una variable toda nuestra data.\n",
    "offset = 0\n",
    "all_data = []\n",
    "for i in range(8):\n",
    "    all_data.append(sp.playlist_tracks(iden, offset=offset))\n",
    "    offset += 100"
   ]
  },
  {
   "cell_type": "code",
   "execution_count": 38,
   "metadata": {},
   "outputs": [],
   "source": [
    "# Visualizamos todos los diccionarios en una ventana externa para mejorar su legibilidad.\n",
    "pyjsonviewer.view_data(json_data=all_data)"
   ]
  },
  {
   "cell_type": "code",
   "execution_count": 39,
   "metadata": {},
   "outputs": [
    {
     "data": {
      "text/plain": [
       "dict_keys(['added_at', 'added_by', 'is_local', 'primary_color', 'track', 'video_thumbnail'])"
      ]
     },
     "execution_count": 39,
     "metadata": {},
     "output_type": "execute_result"
    }
   ],
   "source": [
    "all_data[1][\"items\"][60].keys()"
   ]
  },
  {
   "attachments": {},
   "cell_type": "markdown",
   "metadata": {},
   "source": [
    "#### 5. Comprobamos el funcionamiento de las listas de diccionarios para buscar información."
   ]
  },
  {
   "cell_type": "code",
   "execution_count": 40,
   "metadata": {},
   "outputs": [
    {
     "data": {
      "text/plain": [
       "'2022-11-22T14:26:51Z'"
      ]
     },
     "execution_count": 40,
     "metadata": {},
     "output_type": "execute_result"
    }
   ],
   "source": [
    "# cuando se agregó la canción\n",
    "all_data[1][\"items\"][9]['added_at']"
   ]
  },
  {
   "cell_type": "code",
   "execution_count": 41,
   "metadata": {},
   "outputs": [
    {
     "data": {
      "text/plain": [
       "'31p3oc6g3fcxi2hep3pg6e25aifm'"
      ]
     },
     "execution_count": 41,
     "metadata": {},
     "output_type": "execute_result"
    }
   ],
   "source": [
    "# qué usuario la agregó\n",
    "all_data[1][\"items\"][9]['added_by']['id']"
   ]
  },
  {
   "cell_type": "code",
   "execution_count": 42,
   "metadata": {},
   "outputs": [
    {
     "data": {
      "text/plain": [
       "dict_keys(['album', 'artists', 'available_markets', 'disc_number', 'duration_ms', 'episode', 'explicit', 'external_ids', 'external_urls', 'href', 'id', 'is_local', 'name', 'popularity', 'preview_url', 'track', 'track_number', 'type', 'uri'])"
      ]
     },
     "execution_count": 42,
     "metadata": {},
     "output_type": "execute_result"
    }
   ],
   "source": [
    "all_data[1][\"items\"][9]['track'].keys()"
   ]
  },
  {
   "cell_type": "code",
   "execution_count": 43,
   "metadata": {},
   "outputs": [
    {
     "data": {
      "text/plain": [
       "'Every Breath You Take'"
      ]
     },
     "execution_count": 43,
     "metadata": {},
     "output_type": "execute_result"
    }
   ],
   "source": [
    "# nombre la canción\n",
    "all_data[1][\"items\"][9]['track']['name']"
   ]
  },
  {
   "cell_type": "code",
   "execution_count": 44,
   "metadata": {},
   "outputs": [
    {
     "data": {
      "text/plain": [
       "'The Police'"
      ]
     },
     "execution_count": 44,
     "metadata": {},
     "output_type": "execute_result"
    }
   ],
   "source": [
    "# nombre del artista\n",
    "all_data[1][\"items\"][9]['track']['artists'][0]['name']"
   ]
  },
  {
   "cell_type": "code",
   "execution_count": 45,
   "metadata": {},
   "outputs": [
    {
     "data": {
      "text/plain": [
       "dict_keys(['album_type', 'artists', 'available_markets', 'external_urls', 'href', 'id', 'images', 'name', 'release_date', 'release_date_precision', 'total_tracks', 'type', 'uri'])"
      ]
     },
     "execution_count": 45,
     "metadata": {},
     "output_type": "execute_result"
    }
   ],
   "source": [
    "all_data[1][\"items\"][9]['track']['album'].keys()"
   ]
  },
  {
   "cell_type": "code",
   "execution_count": 46,
   "metadata": {},
   "outputs": [
    {
     "data": {
      "text/plain": [
       "'Synchronicity (Remastered 2003)'"
      ]
     },
     "execution_count": 46,
     "metadata": {},
     "output_type": "execute_result"
    }
   ],
   "source": [
    "# album de la canción\n",
    "all_data[1][\"items\"][9]['track']['album']['name']"
   ]
  },
  {
   "cell_type": "code",
   "execution_count": 47,
   "metadata": {},
   "outputs": [
    {
     "data": {
      "text/plain": [
       "'1983-06-17'"
      ]
     },
     "execution_count": 47,
     "metadata": {},
     "output_type": "execute_result"
    }
   ],
   "source": [
    "# cuando se estrenó la canción\n",
    "all_data[1][\"items\"][9]['track']['album']['release_date']"
   ]
  },
  {
   "cell_type": "code",
   "execution_count": 48,
   "metadata": {},
   "outputs": [
    {
     "data": {
      "text/plain": [
       "'https://i.scdn.co/image/ab67616d0000b273c8e97cafeb2acb85b21a777e'"
      ]
     },
     "execution_count": 48,
     "metadata": {},
     "output_type": "execute_result"
    }
   ],
   "source": [
    "# portada del album\n",
    "all_data[1][\"items\"][9]['track']['album']['images'][0]['url']"
   ]
  },
  {
   "cell_type": "code",
   "execution_count": 49,
   "metadata": {},
   "outputs": [
    {
     "data": {
      "text/plain": [
       "87"
      ]
     },
     "execution_count": 49,
     "metadata": {},
     "output_type": "execute_result"
    }
   ],
   "source": [
    "# popularidad de la canción\n",
    "all_data[1][\"items\"][9]['track']['popularity']"
   ]
  },
  {
   "cell_type": "code",
   "execution_count": 50,
   "metadata": {},
   "outputs": [
    {
     "data": {
      "text/plain": [
       "253920"
      ]
     },
     "execution_count": 50,
     "metadata": {},
     "output_type": "execute_result"
    }
   ],
   "source": [
    "# duración\n",
    "all_data[1][\"items\"][9]['track']['duration_ms']"
   ]
  },
  {
   "cell_type": "code",
   "execution_count": 51,
   "metadata": {},
   "outputs": [
    {
     "data": {
      "text/plain": [
       "False"
      ]
     },
     "execution_count": 51,
     "metadata": {},
     "output_type": "execute_result"
    }
   ],
   "source": [
    "# explícita\n",
    "all_data[1][\"items\"][9]['track']['explicit']"
   ]
  },
  {
   "cell_type": "code",
   "execution_count": 52,
   "metadata": {},
   "outputs": [
    {
     "data": {
      "text/plain": [
       "'spotify:track:1JSTJqkT5qHq8MDJnJbRE1'"
      ]
     },
     "execution_count": 52,
     "metadata": {},
     "output_type": "execute_result"
    }
   ],
   "source": [
    "# identificador de la canción\n",
    "all_data[1][\"items\"][9]['track']['uri']"
   ]
  },
  {
   "attachments": {},
   "cell_type": "markdown",
   "metadata": {},
   "source": [
    "#### 6. Creamos una función para iterar por toda la lista de reproducción."
   ]
  },
  {
   "cell_type": "code",
   "execution_count": 53,
   "metadata": {},
   "outputs": [],
   "source": [
    "basic_info = {\"song\": [], \n",
    "            \"artist\": [], \n",
    "            \"album\": [], \n",
    "            \"duration\": [],\n",
    "            \"date_add\": [],\n",
    "            \"date_album\": [], \n",
    "            \"explicit\": [], \n",
    "            \"popularity\": [], \n",
    "            \"user\": [], \n",
    "            \"image\": [],  \n",
    "            \"uri\": [] }\n",
    "\n",
    "for diccionario in range(len(all_data)):\n",
    "    for cancion in range(len(all_data[diccionario][\"items\"])):\n",
    "        basic_info[\"song\"].append(all_data[diccionario][\"items\"][cancion][\"track\"][\"name\"])\n",
    "        basic_info[\"album\"].append(all_data[diccionario][\"items\"][cancion][\"track\"][\"album\"][\"name\"])\n",
    "        basic_info[\"duration\"].append(all_data[diccionario][\"items\"][cancion][\"track\"][\"duration_ms\"])\n",
    "        basic_info[\"date_add\"].append(all_data[diccionario][\"items\"][cancion][\"added_at\"])\n",
    "        basic_info[\"date_album\"].append(all_data[diccionario][\"items\"][cancion][\"track\"][\"album\"][\"release_date\"])\n",
    "        basic_info[\"explicit\"].append(all_data[diccionario][\"items\"][cancion][\"track\"][\"explicit\"])\n",
    "        basic_info[\"popularity\"].append(all_data[diccionario][\"items\"][cancion][\"track\"][\"popularity\"])\n",
    "        basic_info[\"user\"].append(all_data[diccionario][\"items\"][cancion][\"added_by\"][\"id\"])\n",
    "        basic_info[\"image\"].append(all_data[diccionario][\"items\"][cancion][\"track\"][\"album\"][\"images\"][0][\"url\"])\n",
    "        basic_info[\"uri\"].append(all_data[diccionario][\"items\"][cancion][\"track\"][\"uri\"])\n",
    "\n",
    "\n",
    "        numero_artistas = all_data[diccionario][\"items\"][cancion][\"track\"][\"artists\"]\n",
    "\n",
    "        if len(numero_artistas) == 1:\n",
    "            basic_info[\"artist\"].append(all_data[diccionario][\"items\"][cancion][\"track\"][\"artists\"][0][\"name\"])\n",
    "        else:\n",
    "            lista_artista = []\n",
    "            for artista in range(len(numero_artistas)):\n",
    "                lista_artista.append(all_data[diccionario][\"items\"][cancion][\"track\"][\"artists\"][artista][\"name\"])\n",
    "            basic_info[\"artist\"].append(lista_artista)"
   ]
  },
  {
   "cell_type": "code",
   "execution_count": 54,
   "metadata": {},
   "outputs": [
    {
     "data": {
      "text/plain": [
       "\"Hard to Say I'm Sorry\""
      ]
     },
     "execution_count": 54,
     "metadata": {},
     "output_type": "execute_result"
    }
   ],
   "source": [
    "basic_info['song'][2]"
   ]
  },
  {
   "cell_type": "code",
   "execution_count": 55,
   "metadata": {},
   "outputs": [
    {
     "data": {
      "text/plain": [
       "'Chicago'"
      ]
     },
     "execution_count": 55,
     "metadata": {},
     "output_type": "execute_result"
    }
   ],
   "source": [
    "basic_info['artist'][2]"
   ]
  },
  {
   "cell_type": "code",
   "execution_count": 56,
   "metadata": {},
   "outputs": [
    {
     "data": {
      "text/plain": [
       "'laurezurich'"
      ]
     },
     "execution_count": 56,
     "metadata": {},
     "output_type": "execute_result"
    }
   ],
   "source": [
    "basic_info['user'][2]"
   ]
  },
  {
   "attachments": {},
   "cell_type": "markdown",
   "metadata": {},
   "source": [
    "#### 7. Pasamos la lista de diccionarios a DataFrame para trabajar con él."
   ]
  },
  {
   "cell_type": "code",
   "execution_count": 57,
   "metadata": {},
   "outputs": [
    {
     "name": "stdout",
     "output_type": "stream",
     "text": [
      "song -- 677\n",
      "artist -- 677\n",
      "album -- 677\n",
      "duration -- 677\n",
      "date_add -- 677\n",
      "date_album -- 677\n",
      "explicit -- 677\n",
      "popularity -- 677\n",
      "user -- 677\n",
      "image -- 677\n",
      "uri -- 677\n"
     ]
    }
   ],
   "source": [
    "# comprobamos que todas las columnas tienen la misma medida\n",
    "for k,v in basic_info.items():\n",
    "    print(k, \"--\", len(v))"
   ]
  },
  {
   "cell_type": "code",
   "execution_count": 58,
   "metadata": {},
   "outputs": [],
   "source": [
    "df = pd.DataFrame(basic_info)"
   ]
  },
  {
   "cell_type": "markdown",
   "metadata": {},
   "source": [
    "#### 8. Guardamos para cargar nuestros resultados más adelante."
   ]
  },
  {
   "cell_type": "code",
   "execution_count": 62,
   "metadata": {},
   "outputs": [],
   "source": [
    "df.to_csv('../files/canciones_limpio.csv')"
   ]
  },
  {
   "cell_type": "markdown",
   "metadata": {},
   "source": []
  }
 ],
 "metadata": {
  "kernelspec": {
   "display_name": "Python 3.9.7 ('base')",
   "language": "python",
   "name": "python3"
  },
  "language_info": {
   "codemirror_mode": {
    "name": "ipython",
    "version": 3
   },
   "file_extension": ".py",
   "mimetype": "text/x-python",
   "name": "python",
   "nbconvert_exporter": "python",
   "pygments_lexer": "ipython3",
   "version": "3.9.7"
  },
  "orig_nbformat": 4,
  "vscode": {
   "interpreter": {
    "hash": "a132548e790cb25f951c67ed157520233be95043d6eb3836371ed4d98e90df31"
   }
  }
 },
 "nbformat": 4,
 "nbformat_minor": 2
}
